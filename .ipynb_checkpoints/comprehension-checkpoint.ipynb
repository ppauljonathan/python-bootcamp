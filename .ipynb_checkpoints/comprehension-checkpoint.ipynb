{
 "cells": [
  {
   "cell_type": "markdown",
   "id": "ac0b1c55-865d-49fa-b35f-71057c3f9938",
   "metadata": {},
   "source": [
    "# Comprehension"
   ]
  },
  {
   "cell_type": "markdown",
   "id": "124d8d53-e71f-4e06-8f85-6923974d552f",
   "metadata": {},
   "source": [
    "## List Comprehension"
   ]
  },
  {
   "cell_type": "code",
   "execution_count": 2,
   "id": "f4a2a67f-7eff-4de0-866c-7a48a326830e",
   "metadata": {},
   "outputs": [
    {
     "name": "stdout",
     "output_type": "stream",
     "text": [
      "[1, 4, 9, 16, 25, 36, 49, 64, 81]\n"
     ]
    }
   ],
   "source": [
    "squares_list = []\n",
    "for i in range(1, 10):\n",
    "    squares_list.append(i ** 2)\n",
    "\n",
    "print(squares_list)"
   ]
  },
  {
   "cell_type": "code",
   "execution_count": 3,
   "id": "0ba0e877-2c4f-4735-999d-7ba02e8341a5",
   "metadata": {},
   "outputs": [
    {
     "name": "stdout",
     "output_type": "stream",
     "text": [
      "[1, 4, 9, 16, 25, 36, 49, 64, 81]\n"
     ]
    }
   ],
   "source": [
    "squares_list = [x ** 2 for x in range(1, 10)]\n",
    "\n",
    "print(squares_list)"
   ]
  },
  {
   "cell_type": "code",
   "execution_count": 4,
   "id": "5d91a6c1-6fbb-40e2-a37b-91dcf517dc37",
   "metadata": {},
   "outputs": [],
   "source": [
    "paragraph = ['there was a fox', 'it was black', 'it was seen on the farm']"
   ]
  },
  {
   "cell_type": "code",
   "execution_count": 5,
   "id": "7dd20526-3814-4b07-99b3-d3c7a114b5e6",
   "metadata": {},
   "outputs": [
    {
     "name": "stdout",
     "output_type": "stream",
     "text": [
      "['there', 'was', 'a', 'fox', 'it', 'was', 'black', 'it', 'was', 'seen', 'on', 'the', 'farm']\n"
     ]
    }
   ],
   "source": [
    "single_line_words = []\n",
    "\n",
    "for sentence in paragraph:\n",
    "    for word in sentence.split():\n",
    "        single_line_words.append(word)\n",
    "\n",
    "print(single_line_words)"
   ]
  },
  {
   "cell_type": "code",
   "execution_count": 6,
   "id": "5fc0c400-b8bb-48e9-9dd5-2ae832c52892",
   "metadata": {},
   "outputs": [
    {
     "name": "stdout",
     "output_type": "stream",
     "text": [
      "['there', 'was', 'a', 'fox', 'it', 'was', 'black', 'it', 'was', 'seen', 'on', 'the', 'farm']\n"
     ]
    }
   ],
   "source": [
    "single_line_words = [word for sentence in paragraph for word in sentence.split()] # the loops are in order of nesting\n",
    "print(single_line_words)"
   ]
  },
  {
   "cell_type": "code",
   "execution_count": 7,
   "id": "499c3b80-96cd-4a51-b1ee-7123a59d362e",
   "metadata": {},
   "outputs": [
    {
     "name": "stdout",
     "output_type": "stream",
     "text": [
      "['a', 'it', 'it', 'on']\n"
     ]
    }
   ],
   "source": [
    "vowels = 'aeiouAEIOU'\n",
    "\n",
    "vowel_starting_words = [word for sentence in paragraph for word in sentence.split() if word[0] in vowels] # even conditionals are in order of listing\n",
    "\n",
    "print(vowel_starting_words)"
   ]
  },
  {
   "cell_type": "markdown",
   "id": "d21e2e7a-3ab8-48bf-a9dd-87ba08ddf320",
   "metadata": {},
   "source": [
    "## Dictionary Comprehension"
   ]
  },
  {
   "cell_type": "code",
   "execution_count": 9,
   "id": "35aaabb0-62bc-46ff-99f0-7299d5aca1f9",
   "metadata": {},
   "outputs": [
    {
     "name": "stdout",
     "output_type": "stream",
     "text": [
      "{1: 1, 2: 4, 3: 9, 4: 16, 5: 25, 6: 36, 7: 49, 8: 64, 9: 81}\n"
     ]
    }
   ],
   "source": [
    "squares_dict = { n: n ** 2 for n in range(1, 10) }\n",
    "print(squares_dict)"
   ]
  }
 ],
 "metadata": {
  "kernelspec": {
   "display_name": "Python 3 (ipykernel)",
   "language": "python",
   "name": "python3"
  },
  "language_info": {
   "codemirror_mode": {
    "name": "ipython",
    "version": 3
   },
   "file_extension": ".py",
   "mimetype": "text/x-python",
   "name": "python",
   "nbconvert_exporter": "python",
   "pygments_lexer": "ipython3",
   "version": "3.11.2"
  }
 },
 "nbformat": 4,
 "nbformat_minor": 5
}

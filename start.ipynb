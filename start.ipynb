{
 "cells": [
  {
   "cell_type": "markdown",
   "id": "cb788075-6a27-4ffd-975e-6455688424ee",
   "metadata": {},
   "source": [
    "# Python Week 1 Ex 3"
   ]
  },
  {
   "cell_type": "markdown",
   "id": "59e7ceac-7044-41e7-b59a-900f62c15e5b",
   "metadata": {},
   "source": [
    "## Multiplication Table"
   ]
  },
  {
   "cell_type": "code",
   "execution_count": 1,
   "id": "2ef8835c-6479-433e-8810-ce0128df0701",
   "metadata": {},
   "outputs": [
    {
     "name": "stdin",
     "output_type": "stream",
     "text": [
      " 5\n"
     ]
    },
    {
     "name": "stdout",
     "output_type": "stream",
     "text": [
      "5 * 1 = 5\n",
      "5 * 2 = 10\n",
      "5 * 3 = 15\n",
      "5 * 4 = 20\n",
      "5 * 5 = 25\n",
      "5 * 6 = 30\n",
      "5 * 7 = 35\n",
      "5 * 8 = 40\n",
      "5 * 9 = 45\n",
      "5 * 10 = 50\n"
     ]
    }
   ],
   "source": [
    "n = int(input())\n",
    "\n",
    "for i in range(1, 11):\n",
    "    print(f\"{n} * {i} = {n * i}\")"
   ]
  },
  {
   "cell_type": "markdown",
   "id": "d675749f-218d-445f-a6b2-2bed405bb7d0",
   "metadata": {},
   "source": [
    "## Sum  of Digits"
   ]
  },
  {
   "cell_type": "code",
   "execution_count": 4,
   "id": "5d717be9-30aa-4de0-b060-eb92aa4539e9",
   "metadata": {
    "editable": true,
    "scrolled": true,
    "slideshow": {
     "slide_type": ""
    },
    "tags": []
   },
   "outputs": [
    {
     "name": "stdin",
     "output_type": "stream",
     "text": [
      " 1234\n"
     ]
    },
    {
     "name": "stdout",
     "output_type": "stream",
     "text": [
      "10\n"
     ]
    }
   ],
   "source": [
    "n = int(input())\n",
    "\n",
    "import functools\n",
    "\n",
    "str_num = str(n)\n",
    "\n",
    "num_list = [ int(i) for i in str_num ]\n",
    "\n",
    "sum_digits = functools.reduce(lambda a, b : a + b, num_list)\n",
    "\n",
    "print(sum_digits)"
   ]
  },
  {
   "cell_type": "markdown",
   "id": "4e4a623c-d870-43d7-a74e-463ff441ac71",
   "metadata": {},
   "source": [
    "## Count the Digits"
   ]
  },
  {
   "cell_type": "code",
   "execution_count": 5,
   "id": "cea8033a-1c06-4cc2-93e3-1cf8ba4533ca",
   "metadata": {},
   "outputs": [
    {
     "name": "stdin",
     "output_type": "stream",
     "text": [
      " 1030\n"
     ]
    },
    {
     "name": "stdout",
     "output_type": "stream",
     "text": [
      "Number of odd digits: 2\n",
      "Number of non-zero even digits: 0\n",
      "Number of zeros: 2\n"
     ]
    }
   ],
   "source": [
    "n = int(input())\n",
    "\n",
    "str_num = str(n)\n",
    "\n",
    "num_list = [ int(i) for i in str_num ]\n",
    "\n",
    "odd_digits_count = 0\n",
    "zero_digits_count = 0\n",
    "non_zero_odd_digits_count = 0\n",
    "\n",
    "for i in num_list:\n",
    "    if i == 0:\n",
    "        zero_digits_count += 1\n",
    "    elif i % 2 == 0:\n",
    "        non_zero_odd_digits_count += 1\n",
    "    else:\n",
    "        odd_digits_count += 1\n",
    "\n",
    "\n",
    "print(f\"Number of odd digits: {odd_digits_count}\")\n",
    "print(f\"Number of non-zero even digits: {non_zero_odd_digits_count}\")\n",
    "print(f\"Number of zeros: {zero_digits_count}\")\n"
   ]
  },
  {
   "cell_type": "markdown",
   "id": "b04223c0-20fc-41b8-a995-899f86e6e39d",
   "metadata": {},
   "source": [
    "## String manipulation"
   ]
  },
  {
   "cell_type": "code",
   "execution_count": 6,
   "id": "caa79221-3cba-4bc1-8c5f-5830b277c018",
   "metadata": {},
   "outputs": [
    {
     "name": "stdin",
     "output_type": "stream",
     "text": [
      " Programming is 100% fun\n"
     ]
    },
    {
     "name": "stdout",
     "output_type": "stream",
     "text": [
      "pROGRAMMINGISFUN\n"
     ]
    }
   ],
   "source": [
    "input_string=input()\n",
    "\n",
    "result = \"\"\n",
    "\n",
    "for char in input_string:\n",
    "    if char.isalpha():\n",
    "        result += char\n",
    "\n",
    "print(result.swapcase())        "
   ]
  }
 ],
 "metadata": {
  "kernelspec": {
   "display_name": "Python 3 (ipykernel)",
   "language": "python",
   "name": "python3"
  },
  "language_info": {
   "codemirror_mode": {
    "name": "ipython",
    "version": 3
   },
   "file_extension": ".py",
   "mimetype": "text/x-python",
   "name": "python",
   "nbconvert_exporter": "python",
   "pygments_lexer": "ipython3",
   "version": "3.13.0"
  }
 },
 "nbformat": 4,
 "nbformat_minor": 5
}

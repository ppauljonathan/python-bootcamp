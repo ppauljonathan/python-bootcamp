{
 "cells": [
  {
   "cell_type": "code",
   "execution_count": 1,
   "id": "52efb4b8-8804-4eab-8a1c-987d3660e7f2",
   "metadata": {},
   "outputs": [
    {
     "name": "stdout",
     "output_type": "stream",
     "text": [
      "Hey\n"
     ]
    }
   ],
   "source": [
    "print('Hey')"
   ]
  },
  {
   "attachments": {},
   "cell_type": "markdown",
   "id": "b458e475-36ef-4c81-88f9-0f4df0a42862",
   "metadata": {},
   "source": [
    "# Hey"
   ]
  },
  {
   "cell_type": "code",
   "execution_count": 1,
   "id": "00a15566-1313-4f96-a9bc-6e3dba4cef92",
   "metadata": {},
   "outputs": [
    {
     "name": "stdout",
     "output_type": "stream",
     "text": [
      "13\n",
      "-1\n",
      "42\n",
      "0.8571428571428571\n",
      "279936\n",
      "0\n"
     ]
    }
   ],
   "source": [
    "a = 6\n",
    "b = 7\n",
    "\n",
    "print(a + b) # Addition\n",
    "print(a - b) # Subtraction\n",
    "print(a * b) # Multiplication\n",
    "print(a / b) # Division\n",
    "print(a ** b) # Exponentiation\n",
    "print(a // b) # floor"
   ]
  },
  {
   "cell_type": "markdown",
   "id": "691c1be5-5f95-4147-9a30-00c80d1edecf",
   "metadata": {},
   "source": [
    "# PEMDAS Followed"
   ]
  },
  {
   "cell_type": "code",
   "execution_count": 1,
   "id": "65cb66fe-7ea0-4ec9-8367-002e1f5a39ae",
   "metadata": {},
   "outputs": [
    {
     "data": {
      "text/plain": [
       "-7.0"
      ]
     },
     "execution_count": 1,
     "metadata": {},
     "output_type": "execute_result"
    }
   ],
   "source": [
    "(2 + 3) / 5 - 2 ** 3"
   ]
  },
  {
   "cell_type": "code",
   "execution_count": 1,
   "id": "65a3e74f",
   "metadata": {},
   "outputs": [
    {
     "data": {
      "text/plain": [
       "'Pto'"
      ]
     },
     "execution_count": 1,
     "metadata": {},
     "output_type": "execute_result"
    }
   ],
   "source": [
    "str = \"I love Python programming\"\n",
    "str[-18:-12:2]"
   ]
  }
 ],
 "metadata": {
  "kernelspec": {
   "display_name": "Python 3 (ipykernel)",
   "language": "python",
   "name": "python3"
  },
  "language_info": {
   "codemirror_mode": {
    "name": "ipython",
    "version": 3
   },
   "file_extension": ".py",
   "mimetype": "text/x-python",
   "name": "python",
   "nbconvert_exporter": "python",
   "pygments_lexer": "ipython3",
   "version": "3.11.2"
  }
 },
 "nbformat": 4,
 "nbformat_minor": 5
}

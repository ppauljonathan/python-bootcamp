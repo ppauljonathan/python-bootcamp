{
 "cells": [
  {
   "cell_type": "markdown",
   "id": "98161f38-fba2-4b29-ad42-ab166ac6002e",
   "metadata": {},
   "source": [
    "# Functions"
   ]
  },
  {
   "cell_type": "code",
   "execution_count": 1,
   "id": "14bd1420-3566-4ed0-9ba2-b4728d489bae",
   "metadata": {},
   "outputs": [
    {
     "name": "stdout",
     "output_type": "stream",
     "text": [
      "Hello World\n"
     ]
    }
   ],
   "source": [
    "def hello():\n",
    "    print(\"Hello World\")\n",
    "\n",
    "hello()"
   ]
  },
  {
   "cell_type": "code",
   "execution_count": 4,
   "id": "29787b37-e031-4a89-9cfa-67ed6488f704",
   "metadata": {},
   "outputs": [
    {
     "name": "stdout",
     "output_type": "stream",
     "text": [
      "3025\n"
     ]
    }
   ],
   "source": [
    "def square(num):\n",
    "    return num ** 2\n",
    "\n",
    "print(square(55))"
   ]
  },
  {
   "cell_type": "markdown",
   "id": "eb90e86e-cb60-45bc-9c7d-cd2d3d78b279",
   "metadata": {},
   "source": [
    "## recursion"
   ]
  },
  {
   "cell_type": "code",
   "execution_count": 12,
   "id": "724f6850-5740-4d40-86f8-a4e0dbb62be6",
   "metadata": {},
   "outputs": [
    {
     "name": "stdout",
     "output_type": "stream",
     "text": [
      "1307674368000\n",
      "120\n",
      "1\n",
      "1\n"
     ]
    }
   ],
   "source": [
    "def factorial(n):\n",
    "    if n > 0:\n",
    "        return n * factorial(n - 1)\n",
    "    return 1\n",
    "\n",
    "print(factorial(15))\n",
    "print(factorial(5))\n",
    "print(factorial(1))\n",
    "print(factorial(0))"
   ]
  },
  {
   "cell_type": "markdown",
   "id": "01e9e7d9-0e4c-44c3-8506-f68236c1dcf0",
   "metadata": {},
   "source": [
    "## multiple arguments"
   ]
  },
  {
   "cell_type": "code",
   "execution_count": 20,
   "id": "78e3f028-3192-4439-b031-c39a9ca26b6a",
   "metadata": {},
   "outputs": [
    {
     "name": "stdout",
     "output_type": "stream",
     "text": [
      "120\n",
      "20\n"
     ]
    }
   ],
   "source": [
    "def multiplier(*args):\n",
    "    mul = 1\n",
    "    # args is a tuple\n",
    "    for i in range(0, len(args)):\n",
    "        mul *= args[i]\n",
    "\n",
    "    return mul\n",
    "\n",
    "print(multiplier(1, 2, 3, 4, 5))\n",
    "print(multiplier(4, 5))"
   ]
  },
  {
   "cell_type": "code",
   "execution_count": 2,
   "id": "6781deac-2834-48e4-be63-4707ac6545d5",
   "metadata": {},
   "outputs": [
    {
     "name": "stdout",
     "output_type": "stream",
     "text": [
      "P Paul Jonathan\n"
     ]
    }
   ],
   "source": [
    "def capitalize(word):\n",
    "    return word[0].upper() + word[1:]\n",
    "\n",
    "\n",
    "def humanize(str):\n",
    "    return ' '.join([ capitalize(word) for word in str.split() ]) \n",
    "\n",
    "print(humanize('p paul jonathan'))"
   ]
  },
  {
   "cell_type": "markdown",
   "id": "420aa85f-8b93-4d9a-957d-8905fe53317d",
   "metadata": {},
   "source": [
    "## lambdas (functional programming)"
   ]
  },
  {
   "cell_type": "code",
   "execution_count": 5,
   "id": "d5f5a7f7-1b82-40de-9758-cc7dda0f1888",
   "metadata": {},
   "outputs": [
    {
     "name": "stdout",
     "output_type": "stream",
     "text": [
      "<class 'function'>\n",
      "30\n"
     ]
    }
   ],
   "source": [
    "product = lambda x, y : x * y\n",
    "\n",
    "print(type(product))\n",
    "print(product(5, 6))"
   ]
  },
  {
   "cell_type": "code",
   "execution_count": 8,
   "id": "227fb82d-e3c6-4cf5-92c8-92091488ee8e",
   "metadata": {},
   "outputs": [
    {
     "name": "stdout",
     "output_type": "stream",
     "text": [
      "5\n"
     ]
    }
   ],
   "source": [
    "greater = lambda x, y :  x if x > y else y\n",
    "print(greater(5, 4))"
   ]
  },
  {
   "cell_type": "code",
   "execution_count": 21,
   "id": "bf9d45d2-cab7-47c0-985a-8e2a46c5744f",
   "metadata": {},
   "outputs": [
    {
     "name": "stdout",
     "output_type": "stream",
     "text": [
      "140131682129904\n"
     ]
    }
   ],
   "source": [
    "print(id(\"paul\"))"
   ]
  },
  {
   "cell_type": "markdown",
   "id": "bb6dbf6d-d533-45ae-a417-6a4d96a43d5f",
   "metadata": {},
   "source": [
    "## Iterators\n",
    "These are bulk operations on iterable items ex list, set, tuple"
   ]
  },
  {
   "cell_type": "code",
   "execution_count": 22,
   "id": "c0beed1f-fcbb-4a14-a5f3-ae7709d15f8d",
   "metadata": {},
   "outputs": [],
   "source": [
    "input_list = [2, 3, 5, 7, 11, 13]"
   ]
  },
  {
   "cell_type": "markdown",
   "id": "10b04907-8f61-40f9-84bb-0a4cf7c743a5",
   "metadata": {},
   "source": [
    "### map"
   ]
  },
  {
   "cell_type": "code",
   "execution_count": 26,
   "id": "97dd26dd-2eed-491b-999c-c7bd9e52c64a",
   "metadata": {},
   "outputs": [
    {
     "name": "stdout",
     "output_type": "stream",
     "text": [
      "[4, 9, 25, 49, 121, 169]\n"
     ]
    }
   ],
   "source": [
    "square_list = list(map(lambda x : x ** 2, input_list)) # map returns an iterable which needs to be made into a list\n",
    "\n",
    "print(square_list)"
   ]
  },
  {
   "cell_type": "code",
   "execution_count": 28,
   "id": "dfd9575f-d6d8-48bf-8be1-5379af5fa227",
   "metadata": {},
   "outputs": [
    {
     "name": "stdout",
     "output_type": "stream",
     "text": [
      "[8, 27, 125, 343, 1331, 2197]\n"
     ]
    }
   ],
   "source": [
    "def cuber(n):\n",
    "    return n ** 3\n",
    "\n",
    "\n",
    "cube_list = list(map(cuber, input_list))\n",
    "\n",
    "print(cube_list)"
   ]
  },
  {
   "cell_type": "code",
   "execution_count": 31,
   "id": "d11eb4bb-597e-4790-9247-5d36a0807a29",
   "metadata": {},
   "outputs": [
    {
     "name": "stdout",
     "output_type": "stream",
     "text": [
      "[6, 6, 6, 6, 6]\n"
     ]
    }
   ],
   "source": [
    "sl1 = [1, 2, 3, 4, 5]\n",
    "sl2 = (5, 4, 3, 2, 1)\n",
    "\n",
    "sums = list(map(lambda x, y : x + y, sl1, sl2))\n",
    "\n",
    "print(sums)"
   ]
  },
  {
   "cell_type": "markdown",
   "id": "2de3ae77-64c9-4d40-a82c-c625c8e11ee1",
   "metadata": {},
   "source": [
    "### filter"
   ]
  },
  {
   "cell_type": "code",
   "execution_count": 33,
   "id": "99c70aa9-4b73-401a-804d-98412161cba2",
   "metadata": {},
   "outputs": [
    {
     "name": "stdout",
     "output_type": "stream",
     "text": [
      "[2]\n"
     ]
    }
   ],
   "source": [
    "evens = list(filter(lambda x : x % 2 == 0, input_list))\n",
    "\n",
    "print(evens)"
   ]
  },
  {
   "cell_type": "markdown",
   "id": "43154fd5-30e1-40cf-b2f3-91a39af864ba",
   "metadata": {},
   "source": [
    "### reduce"
   ]
  },
  {
   "cell_type": "code",
   "execution_count": null,
   "id": "ae9f7077-025a-4982-8c54-f9cfd54a0b36",
   "metadata": {},
   "outputs": [],
   "source": [
    "from "
   ]
  }
 ],
 "metadata": {
  "kernelspec": {
   "display_name": "Python 3 (ipykernel)",
   "language": "python",
   "name": "python3"
  },
  "language_info": {
   "codemirror_mode": {
    "name": "ipython",
    "version": 3
   },
   "file_extension": ".py",
   "mimetype": "text/x-python",
   "name": "python",
   "nbconvert_exporter": "python",
   "pygments_lexer": "ipython3",
   "version": "3.11.2"
  }
 },
 "nbformat": 4,
 "nbformat_minor": 5
}

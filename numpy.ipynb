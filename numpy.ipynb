{
 "cells": [
  {
   "cell_type": "code",
   "execution_count": 5,
   "id": "23aebedc-8baf-43fb-ad39-7f32b4924537",
   "metadata": {},
   "outputs": [],
   "source": [
    "import numpy as np"
   ]
  },
  {
   "cell_type": "code",
   "execution_count": 3,
   "id": "27768e06-76e1-4a75-9479-985be999e528",
   "metadata": {},
   "outputs": [],
   "source": [
    "heights = [77, 72, 74, 82]"
   ]
  },
  {
   "cell_type": "code",
   "execution_count": 4,
   "id": "46896a06-40aa-47cf-96f8-77e98b201d39",
   "metadata": {},
   "outputs": [
    {
     "ename": "TypeError",
     "evalue": "can't multiply sequence by non-int of type 'float'",
     "output_type": "error",
     "traceback": [
      "\u001b[0;31m---------------------------------------------------------------------------\u001b[0m",
      "\u001b[0;31mTypeError\u001b[0m                                 Traceback (most recent call last)",
      "Cell \u001b[0;32mIn[4], line 1\u001b[0m\n\u001b[0;32m----> 1\u001b[0m \u001b[43mheights\u001b[49m\u001b[43m \u001b[49m\u001b[38;5;241;43m*\u001b[39;49m\u001b[43m \u001b[49m\u001b[38;5;241;43m2.54\u001b[39;49m\n",
      "\u001b[0;31mTypeError\u001b[0m: can't multiply sequence by non-int of type 'float'"
     ]
    }
   ],
   "source": [
    "heights * 2.54"
   ]
  },
  {
   "cell_type": "code",
   "execution_count": 6,
   "id": "dc309c6e-9ef4-4c9f-a71c-a7361770400f",
   "metadata": {},
   "outputs": [
    {
     "data": {
      "text/plain": [
       "array([77, 72, 74, 82])"
      ]
     },
     "execution_count": 6,
     "metadata": {},
     "output_type": "execute_result"
    }
   ],
   "source": [
    "np.array(heights)"
   ]
  },
  {
   "cell_type": "code",
   "execution_count": 7,
   "id": "b281f4e3-b8d1-406b-a8fc-75ca3ec7dc50",
   "metadata": {},
   "outputs": [],
   "source": [
    "np_heights = np.array(heights)"
   ]
  },
  {
   "cell_type": "code",
   "execution_count": 8,
   "id": "b928291b-6a02-49e3-bc02-82b36ab605cc",
   "metadata": {},
   "outputs": [
    {
     "data": {
      "text/plain": [
       "array([195.58, 182.88, 187.96, 208.28])"
      ]
     },
     "execution_count": 8,
     "metadata": {},
     "output_type": "execute_result"
    }
   ],
   "source": [
    "np_heights * 2.54"
   ]
  },
  {
   "cell_type": "code",
   "execution_count": 9,
   "id": "fec46545-39dc-4d4b-851e-cf8e0b8bca8c",
   "metadata": {},
   "outputs": [
    {
     "data": {
      "text/plain": [
       "[1, 2, 3, 4, 5, 6]"
      ]
     },
     "execution_count": 9,
     "metadata": {},
     "output_type": "execute_result"
    }
   ],
   "source": [
    "list_1 = [1, 2, 3]\n",
    "list_2 = [4, 5, 6]\n",
    "\n",
    "list_1 + list_2"
   ]
  },
  {
   "cell_type": "code",
   "execution_count": 11,
   "id": "1c4eeee7-5c0a-49a5-9de4-9ce2df7937ec",
   "metadata": {},
   "outputs": [
    {
     "data": {
      "text/plain": [
       "array([5, 7, 9])"
      ]
     },
     "execution_count": 11,
     "metadata": {},
     "output_type": "execute_result"
    }
   ],
   "source": [
    "np_1 = np.array([1, 2, 3])\n",
    "np_2 = np.array([4, 5, 6])\n",
    "\n",
    "np_1 + np_2 # sums the elements"
   ]
  },
  {
   "cell_type": "code",
   "execution_count": 14,
   "id": "98052db2-2abd-417b-9cce-652adb5a7b57",
   "metadata": {},
   "outputs": [
    {
     "data": {
      "text/plain": [
       "array([1, 2, 3, 0])"
      ]
     },
     "execution_count": 14,
     "metadata": {},
     "output_type": "execute_result"
    }
   ],
   "source": [
    "np.array([1, 2, 3, False])"
   ]
  },
  {
   "cell_type": "markdown",
   "id": "18567beb-37a4-41d9-88f9-f066925d0043",
   "metadata": {},
   "source": [
    "## N Dimensional Arrays"
   ]
  },
  {
   "cell_type": "code",
   "execution_count": null,
   "id": "5f0b8d14-5732-43a7-9e72-ce0534a11876",
   "metadata": {},
   "outputs": [],
   "source": []
  }
 ],
 "metadata": {
  "kernelspec": {
   "display_name": "Python 3 (ipykernel)",
   "language": "python",
   "name": "python3"
  },
  "language_info": {
   "codemirror_mode": {
    "name": "ipython",
    "version": 3
   },
   "file_extension": ".py",
   "mimetype": "text/x-python",
   "name": "python",
   "nbconvert_exporter": "python",
   "pygments_lexer": "ipython3",
   "version": "3.13.0"
  }
 },
 "nbformat": 4,
 "nbformat_minor": 5
}

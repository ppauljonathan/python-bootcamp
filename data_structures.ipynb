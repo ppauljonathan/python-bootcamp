{
 "cells": [
  {
   "cell_type": "markdown",
   "id": "edeca0e1-040b-4977-bd59-25ea9410a7a7",
   "metadata": {},
   "source": [
    "# Data Structures in Python"
   ]
  },
  {
   "cell_type": "markdown",
   "id": "2ad9b1ee-d648-4e50-a452-2e7e086ef372",
   "metadata": {},
   "source": [
    "## List"
   ]
  },
  {
   "cell_type": "markdown",
   "id": "a20c6bd6-062f-4af6-8d37-71a264116a7e",
   "metadata": {},
   "source": [
    "- terminated by `[]`\n",
    "- mutable\n",
    "- can contain duplicates\n",
    "- can contain multiple data types\n",
    "- can slice/fetch data"
   ]
  },
  {
   "cell_type": "code",
   "execution_count": 1,
   "id": "39285ffa-f964-4aa8-b368-ec9f8306ad70",
   "metadata": {},
   "outputs": [
    {
     "name": "stdout",
     "output_type": "stream",
     "text": [
      "<class 'list'>\n"
     ]
    }
   ],
   "source": [
    "items = ['butter', 'milk', 1, 3, True, 1.4]\n",
    "\n",
    "print(type(items))"
   ]
  },
  {
   "cell_type": "code",
   "execution_count": 2,
   "id": "baaa2e81-ace4-414e-a2ef-37cadbda63f7",
   "metadata": {},
   "outputs": [
    {
     "name": "stdout",
     "output_type": "stream",
     "text": [
      "1\n"
     ]
    }
   ],
   "source": [
    "print(items[2])"
   ]
  },
  {
   "cell_type": "markdown",
   "id": "fb6bec80-cdb4-431c-b18f-4c55e3943a80",
   "metadata": {},
   "source": [
    "## Tuple"
   ]
  },
  {
   "cell_type": "markdown",
   "id": "f327d7f4-35f7-43f2-980f-2e9283f7baaf",
   "metadata": {},
   "source": [
    "## Dictionary"
   ]
  },
  {
   "cell_type": "markdown",
   "id": "6b80e809-632c-449d-b56a-bd103109e3c1",
   "metadata": {},
   "source": [
    "## Set"
   ]
  },
  {
   "cell_type": "code",
   "execution_count": null,
   "id": "789e5a9e-58d9-4903-86a6-230c923bc750",
   "metadata": {},
   "outputs": [],
   "source": []
  }
 ],
 "metadata": {
  "kernelspec": {
   "display_name": "Python 3 (ipykernel)",
   "language": "python",
   "name": "python3"
  },
  "language_info": {
   "codemirror_mode": {
    "name": "ipython",
    "version": 3
   },
   "file_extension": ".py",
   "mimetype": "text/x-python",
   "name": "python",
   "nbconvert_exporter": "python",
   "pygments_lexer": "ipython3",
   "version": "3.11.2"
  }
 },
 "nbformat": 4,
 "nbformat_minor": 5
}
